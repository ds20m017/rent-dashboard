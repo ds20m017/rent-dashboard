{
 "cells": [
  {
   "cell_type": "code",
   "execution_count": 132,
   "metadata": {},
   "outputs": [],
   "source": [
    "import pandas as pd\n",
    "import plotly.express as px\n",
    "import plotly.graph_objects as go\n",
    "import numpy as np\n",
    "import pickle\n",
    "from sklearn.linear_model import LinearRegression\n",
    "from sklearn import model_selection\n",
    "from sklearn.ensemble import RandomForestRegressor"
   ]
  },
  {
   "cell_type": "code",
   "execution_count": 19,
   "metadata": {},
   "outputs": [],
   "source": [
    "names=[\"Jahr\", \"Österreich\", \"Burgenland\", \"Kärnten\", \"Niederösterreich\", \"Oberösterreich\", \"Salzburg\", \"Steiermark\", \"Tirol\", \"Vorarlberg\", \"Wien\"]\n",
    "value_vars = [\"Österreich\", \"Burgenland\", \"Kärnten\", \"Niederösterreich\", \"Oberösterreich\", \"Salzburg\", \"Steiermark\", \"Tirol\", \"Vorarlberg\", \"Wien\"]\n",
    "averageWohnfläche = pd.read_excel(\"ergebnisse_im_ueberblick_wohnungsgroesse.xlsx\", header=None, usecols = 'A:K', skiprows = 5, names=names, nrows=16)"
   ]
  },
  {
   "cell_type": "code",
   "execution_count": 20,
   "metadata": {},
   "outputs": [
    {
     "data": {
      "text/html": [
       "<div>\n",
       "<style scoped>\n",
       "    .dataframe tbody tr th:only-of-type {\n",
       "        vertical-align: middle;\n",
       "    }\n",
       "\n",
       "    .dataframe tbody tr th {\n",
       "        vertical-align: top;\n",
       "    }\n",
       "\n",
       "    .dataframe thead th {\n",
       "        text-align: right;\n",
       "    }\n",
       "</style>\n",
       "<table border=\"1\" class=\"dataframe\">\n",
       "  <thead>\n",
       "    <tr style=\"text-align: right;\">\n",
       "      <th></th>\n",
       "      <th>Jahr</th>\n",
       "      <th>Österreich</th>\n",
       "      <th>Burgenland</th>\n",
       "      <th>Kärnten</th>\n",
       "      <th>Niederösterreich</th>\n",
       "      <th>Oberösterreich</th>\n",
       "      <th>Salzburg</th>\n",
       "      <th>Steiermark</th>\n",
       "      <th>Tirol</th>\n",
       "      <th>Vorarlberg</th>\n",
       "      <th>Wien</th>\n",
       "    </tr>\n",
       "  </thead>\n",
       "  <tbody>\n",
       "    <tr>\n",
       "      <th>0</th>\n",
       "      <td>2004</td>\n",
       "      <td>96.402733</td>\n",
       "      <td>118.038954</td>\n",
       "      <td>104.575597</td>\n",
       "      <td>109.886757</td>\n",
       "      <td>102.151523</td>\n",
       "      <td>92.737666</td>\n",
       "      <td>101.542588</td>\n",
       "      <td>96.541314</td>\n",
       "      <td>100.224615</td>\n",
       "      <td>73.582417</td>\n",
       "    </tr>\n",
       "    <tr>\n",
       "      <th>1</th>\n",
       "      <td>2005</td>\n",
       "      <td>96.859698</td>\n",
       "      <td>118.917080</td>\n",
       "      <td>104.136755</td>\n",
       "      <td>110.091469</td>\n",
       "      <td>103.324705</td>\n",
       "      <td>93.269249</td>\n",
       "      <td>102.870282</td>\n",
       "      <td>96.733946</td>\n",
       "      <td>100.663910</td>\n",
       "      <td>73.464258</td>\n",
       "    </tr>\n",
       "    <tr>\n",
       "      <th>2</th>\n",
       "      <td>2006</td>\n",
       "      <td>97.418119</td>\n",
       "      <td>121.262855</td>\n",
       "      <td>104.103887</td>\n",
       "      <td>112.852437</td>\n",
       "      <td>103.887510</td>\n",
       "      <td>93.901686</td>\n",
       "      <td>102.356592</td>\n",
       "      <td>97.302140</td>\n",
       "      <td>100.666161</td>\n",
       "      <td>72.868390</td>\n",
       "    </tr>\n",
       "    <tr>\n",
       "      <th>3</th>\n",
       "      <td>2007</td>\n",
       "      <td>97.785788</td>\n",
       "      <td>120.013036</td>\n",
       "      <td>104.075758</td>\n",
       "      <td>112.083952</td>\n",
       "      <td>105.012311</td>\n",
       "      <td>94.676003</td>\n",
       "      <td>103.126255</td>\n",
       "      <td>99.506601</td>\n",
       "      <td>101.703286</td>\n",
       "      <td>72.777549</td>\n",
       "    </tr>\n",
       "    <tr>\n",
       "      <th>4</th>\n",
       "      <td>2008</td>\n",
       "      <td>97.997539</td>\n",
       "      <td>122.464686</td>\n",
       "      <td>102.775269</td>\n",
       "      <td>111.340362</td>\n",
       "      <td>104.579985</td>\n",
       "      <td>95.540214</td>\n",
       "      <td>104.211321</td>\n",
       "      <td>99.307677</td>\n",
       "      <td>101.049301</td>\n",
       "      <td>73.856891</td>\n",
       "    </tr>\n",
       "  </tbody>\n",
       "</table>\n",
       "</div>"
      ],
      "text/plain": [
       "   Jahr  Österreich  Burgenland     Kärnten  Niederösterreich  Oberösterreich  \\\n",
       "0  2004   96.402733  118.038954  104.575597        109.886757      102.151523   \n",
       "1  2005   96.859698  118.917080  104.136755        110.091469      103.324705   \n",
       "2  2006   97.418119  121.262855  104.103887        112.852437      103.887510   \n",
       "3  2007   97.785788  120.013036  104.075758        112.083952      105.012311   \n",
       "4  2008   97.997539  122.464686  102.775269        111.340362      104.579985   \n",
       "\n",
       "    Salzburg  Steiermark      Tirol  Vorarlberg       Wien  \n",
       "0  92.737666  101.542588  96.541314  100.224615  73.582417  \n",
       "1  93.269249  102.870282  96.733946  100.663910  73.464258  \n",
       "2  93.901686  102.356592  97.302140  100.666161  72.868390  \n",
       "3  94.676003  103.126255  99.506601  101.703286  72.777549  \n",
       "4  95.540214  104.211321  99.307677  101.049301  73.856891  "
      ]
     },
     "execution_count": 20,
     "metadata": {},
     "output_type": "execute_result"
    }
   ],
   "source": [
    "averageWohnfläche.head()"
   ]
  },
  {
   "cell_type": "code",
   "execution_count": 21,
   "metadata": {},
   "outputs": [
    {
     "data": {
      "text/html": [
       "<div>\n",
       "<style scoped>\n",
       "    .dataframe tbody tr th:only-of-type {\n",
       "        vertical-align: middle;\n",
       "    }\n",
       "\n",
       "    .dataframe tbody tr th {\n",
       "        vertical-align: top;\n",
       "    }\n",
       "\n",
       "    .dataframe thead th {\n",
       "        text-align: right;\n",
       "    }\n",
       "</style>\n",
       "<table border=\"1\" class=\"dataframe\">\n",
       "  <thead>\n",
       "    <tr style=\"text-align: right;\">\n",
       "      <th></th>\n",
       "      <th>Jahr</th>\n",
       "      <th>Österreich</th>\n",
       "      <th>Burgenland</th>\n",
       "      <th>Kärnten</th>\n",
       "      <th>Niederösterreich</th>\n",
       "      <th>Oberösterreich</th>\n",
       "      <th>Salzburg</th>\n",
       "      <th>Steiermark</th>\n",
       "      <th>Tirol</th>\n",
       "      <th>Vorarlberg</th>\n",
       "      <th>Wien</th>\n",
       "    </tr>\n",
       "  </thead>\n",
       "  <tbody>\n",
       "    <tr>\n",
       "      <th>0</th>\n",
       "      <td>2004</td>\n",
       "      <td>3.721213</td>\n",
       "      <td>4.248938</td>\n",
       "      <td>4.018923</td>\n",
       "      <td>4.012790</td>\n",
       "      <td>4.090412</td>\n",
       "      <td>3.860263</td>\n",
       "      <td>3.977423</td>\n",
       "      <td>3.828460</td>\n",
       "      <td>4.208192</td>\n",
       "      <td>2.762914</td>\n",
       "    </tr>\n",
       "    <tr>\n",
       "      <th>1</th>\n",
       "      <td>2005</td>\n",
       "      <td>3.871283</td>\n",
       "      <td>4.400534</td>\n",
       "      <td>4.089777</td>\n",
       "      <td>4.193768</td>\n",
       "      <td>4.275606</td>\n",
       "      <td>3.994421</td>\n",
       "      <td>4.158764</td>\n",
       "      <td>3.945100</td>\n",
       "      <td>4.389451</td>\n",
       "      <td>2.877051</td>\n",
       "    </tr>\n",
       "    <tr>\n",
       "      <th>2</th>\n",
       "      <td>2006</td>\n",
       "      <td>4.121819</td>\n",
       "      <td>4.724859</td>\n",
       "      <td>4.324052</td>\n",
       "      <td>4.533762</td>\n",
       "      <td>4.513398</td>\n",
       "      <td>4.058740</td>\n",
       "      <td>4.383793</td>\n",
       "      <td>4.139359</td>\n",
       "      <td>4.466104</td>\n",
       "      <td>3.172699</td>\n",
       "    </tr>\n",
       "    <tr>\n",
       "      <th>3</th>\n",
       "      <td>2007</td>\n",
       "      <td>4.175663</td>\n",
       "      <td>4.779513</td>\n",
       "      <td>4.372445</td>\n",
       "      <td>4.591776</td>\n",
       "      <td>4.510519</td>\n",
       "      <td>4.074036</td>\n",
       "      <td>4.454273</td>\n",
       "      <td>4.240021</td>\n",
       "      <td>4.498915</td>\n",
       "      <td>3.249387</td>\n",
       "    </tr>\n",
       "    <tr>\n",
       "      <th>4</th>\n",
       "      <td>2008</td>\n",
       "      <td>4.167670</td>\n",
       "      <td>4.778519</td>\n",
       "      <td>4.313951</td>\n",
       "      <td>4.548706</td>\n",
       "      <td>4.500078</td>\n",
       "      <td>4.041659</td>\n",
       "      <td>4.456948</td>\n",
       "      <td>4.238492</td>\n",
       "      <td>4.485642</td>\n",
       "      <td>3.281338</td>\n",
       "    </tr>\n",
       "  </tbody>\n",
       "</table>\n",
       "</div>"
      ],
      "text/plain": [
       "   Jahr  Österreich  Burgenland   Kärnten  Niederösterreich  Oberösterreich  \\\n",
       "0  2004    3.721213    4.248938  4.018923          4.012790        4.090412   \n",
       "1  2005    3.871283    4.400534  4.089777          4.193768        4.275606   \n",
       "2  2006    4.121819    4.724859  4.324052          4.533762        4.513398   \n",
       "3  2007    4.175663    4.779513  4.372445          4.591776        4.510519   \n",
       "4  2008    4.167670    4.778519  4.313951          4.548706        4.500078   \n",
       "\n",
       "   Salzburg  Steiermark     Tirol  Vorarlberg      Wien  \n",
       "0  3.860263    3.977423  3.828460    4.208192  2.762914  \n",
       "1  3.994421    4.158764  3.945100    4.389451  2.877051  \n",
       "2  4.058740    4.383793  4.139359    4.466104  3.172699  \n",
       "3  4.074036    4.454273  4.240021    4.498915  3.249387  \n",
       "4  4.041659    4.456948  4.238492    4.485642  3.281338  "
      ]
     },
     "execution_count": 21,
     "metadata": {},
     "output_type": "execute_result"
    }
   ],
   "source": [
    "averageRooms = pd.read_excel(\"ergebnisse_im_ueberblick_wohnungsgroesse.xlsx\", header=None, usecols = 'A:K', skiprows = 23, names=names, nrows=16)\n",
    "averageRooms.head()"
   ]
  },
  {
   "cell_type": "code",
   "execution_count": 22,
   "metadata": {},
   "outputs": [],
   "source": [
    "averageWohnfläche_melt = averageWohnfläche.melt(id_vars='Jahr', value_vars=value_vars)"
   ]
  },
  {
   "cell_type": "code",
   "execution_count": 23,
   "metadata": {},
   "outputs": [
    {
     "data": {
      "text/html": [
       "<div>\n",
       "<style scoped>\n",
       "    .dataframe tbody tr th:only-of-type {\n",
       "        vertical-align: middle;\n",
       "    }\n",
       "\n",
       "    .dataframe tbody tr th {\n",
       "        vertical-align: top;\n",
       "    }\n",
       "\n",
       "    .dataframe thead th {\n",
       "        text-align: right;\n",
       "    }\n",
       "</style>\n",
       "<table border=\"1\" class=\"dataframe\">\n",
       "  <thead>\n",
       "    <tr style=\"text-align: right;\">\n",
       "      <th></th>\n",
       "      <th>Jahr</th>\n",
       "      <th>variable</th>\n",
       "      <th>value</th>\n",
       "    </tr>\n",
       "  </thead>\n",
       "  <tbody>\n",
       "    <tr>\n",
       "      <th>0</th>\n",
       "      <td>2004</td>\n",
       "      <td>Österreich</td>\n",
       "      <td>96.402733</td>\n",
       "    </tr>\n",
       "    <tr>\n",
       "      <th>1</th>\n",
       "      <td>2005</td>\n",
       "      <td>Österreich</td>\n",
       "      <td>96.859698</td>\n",
       "    </tr>\n",
       "    <tr>\n",
       "      <th>2</th>\n",
       "      <td>2006</td>\n",
       "      <td>Österreich</td>\n",
       "      <td>97.418119</td>\n",
       "    </tr>\n",
       "    <tr>\n",
       "      <th>3</th>\n",
       "      <td>2007</td>\n",
       "      <td>Österreich</td>\n",
       "      <td>97.785788</td>\n",
       "    </tr>\n",
       "    <tr>\n",
       "      <th>4</th>\n",
       "      <td>2008</td>\n",
       "      <td>Österreich</td>\n",
       "      <td>97.997539</td>\n",
       "    </tr>\n",
       "    <tr>\n",
       "      <th>...</th>\n",
       "      <td>...</td>\n",
       "      <td>...</td>\n",
       "      <td>...</td>\n",
       "    </tr>\n",
       "    <tr>\n",
       "      <th>155</th>\n",
       "      <td>2015</td>\n",
       "      <td>Wien</td>\n",
       "      <td>73.006804</td>\n",
       "    </tr>\n",
       "    <tr>\n",
       "      <th>156</th>\n",
       "      <td>2016</td>\n",
       "      <td>Wien</td>\n",
       "      <td>73.660182</td>\n",
       "    </tr>\n",
       "    <tr>\n",
       "      <th>157</th>\n",
       "      <td>2017</td>\n",
       "      <td>Wien</td>\n",
       "      <td>74.614456</td>\n",
       "    </tr>\n",
       "    <tr>\n",
       "      <th>158</th>\n",
       "      <td>2018</td>\n",
       "      <td>Wien</td>\n",
       "      <td>74.046262</td>\n",
       "    </tr>\n",
       "    <tr>\n",
       "      <th>159</th>\n",
       "      <td>2019</td>\n",
       "      <td>Wien</td>\n",
       "      <td>73.743847</td>\n",
       "    </tr>\n",
       "  </tbody>\n",
       "</table>\n",
       "<p>160 rows × 3 columns</p>\n",
       "</div>"
      ],
      "text/plain": [
       "     Jahr    variable      value\n",
       "0    2004  Österreich  96.402733\n",
       "1    2005  Österreich  96.859698\n",
       "2    2006  Österreich  97.418119\n",
       "3    2007  Österreich  97.785788\n",
       "4    2008  Österreich  97.997539\n",
       "..    ...         ...        ...\n",
       "155  2015        Wien  73.006804\n",
       "156  2016        Wien  73.660182\n",
       "157  2017        Wien  74.614456\n",
       "158  2018        Wien  74.046262\n",
       "159  2019        Wien  73.743847\n",
       "\n",
       "[160 rows x 3 columns]"
      ]
     },
     "execution_count": 23,
     "metadata": {},
     "output_type": "execute_result"
    }
   ],
   "source": [
    "averageWohnfläche_melt"
   ]
  },
  {
   "cell_type": "code",
   "execution_count": 24,
   "metadata": {},
   "outputs": [
    {
     "data": {
      "application/vnd.plotly.v1+json": {
       "config": {
        "plotlyServerURL": "https://plot.ly"
       },
       "data": [
        {
         "hovertemplate": "variable=Österreich<br>Jahr=%{x}<br>value=%{y}<extra></extra>",
         "legendgroup": "Österreich",
         "line": {
          "color": "#636efa",
          "dash": "solid"
         },
         "marker": {
          "symbol": "circle"
         },
         "mode": "lines",
         "name": "Österreich",
         "orientation": "v",
         "showlegend": true,
         "type": "scatter",
         "x": [
          2004,
          2005,
          2006,
          2007,
          2008,
          2009,
          2010,
          2011,
          2012,
          2013,
          2014,
          2015,
          2016,
          2017,
          2018,
          2019
         ],
         "xaxis": "x",
         "y": [
          96.40273272170325,
          96.85969831427367,
          97.41811863771713,
          97.78578775626038,
          97.9975385130157,
          98.19222555879747,
          98.76374843738111,
          99.0002998881488,
          99.07445064476155,
          99.64126935133405,
          99.7311553651165,
          99.19642026456455,
          99.32521376582446,
          99.64117407032698,
          100.05924754841602,
          99.98928930734941
         ],
         "yaxis": "y"
        },
        {
         "hovertemplate": "variable=Burgenland<br>Jahr=%{x}<br>value=%{y}<extra></extra>",
         "legendgroup": "Burgenland",
         "line": {
          "color": "#EF553B",
          "dash": "solid"
         },
         "marker": {
          "symbol": "circle"
         },
         "mode": "lines",
         "name": "Burgenland",
         "orientation": "v",
         "showlegend": true,
         "type": "scatter",
         "x": [
          2004,
          2005,
          2006,
          2007,
          2008,
          2009,
          2010,
          2011,
          2012,
          2013,
          2014,
          2015,
          2016,
          2017,
          2018,
          2019
         ],
         "xaxis": "x",
         "y": [
          118.0389543138649,
          118.91708026189713,
          121.26285534953517,
          120.01303574550208,
          122.4646864254896,
          121.56229529768589,
          122.15313289170057,
          123.32787731386541,
          122.67614969468009,
          126.04107533354971,
          122.48791599305152,
          123.4900749752757,
          123.42434300001665,
          124.7660431953887,
          124.3312501990157,
          123.99160864531979
         ],
         "yaxis": "y"
        },
        {
         "hovertemplate": "variable=Kärnten<br>Jahr=%{x}<br>value=%{y}<extra></extra>",
         "legendgroup": "Kärnten",
         "line": {
          "color": "#00cc96",
          "dash": "solid"
         },
         "marker": {
          "symbol": "circle"
         },
         "mode": "lines",
         "name": "Kärnten",
         "orientation": "v",
         "showlegend": true,
         "type": "scatter",
         "x": [
          2004,
          2005,
          2006,
          2007,
          2008,
          2009,
          2010,
          2011,
          2012,
          2013,
          2014,
          2015,
          2016,
          2017,
          2018,
          2019
         ],
         "xaxis": "x",
         "y": [
          104.57559704405482,
          104.13675535321238,
          104.10388701489296,
          104.07575776555453,
          102.77526917245422,
          105.14492784595697,
          105.82113103898662,
          106.04309552524631,
          105.90401148566453,
          106.22702867679361,
          107.31432384340567,
          106.78877570080492,
          105.93217066274232,
          107.13274139285554,
          107.94741385286606,
          107.78005080264383
         ],
         "yaxis": "y"
        },
        {
         "hovertemplate": "variable=Niederösterreich<br>Jahr=%{x}<br>value=%{y}<extra></extra>",
         "legendgroup": "Niederösterreich",
         "line": {
          "color": "#ab63fa",
          "dash": "solid"
         },
         "marker": {
          "symbol": "circle"
         },
         "mode": "lines",
         "name": "Niederösterreich",
         "orientation": "v",
         "showlegend": true,
         "type": "scatter",
         "x": [
          2004,
          2005,
          2006,
          2007,
          2008,
          2009,
          2010,
          2011,
          2012,
          2013,
          2014,
          2015,
          2016,
          2017,
          2018,
          2019
         ],
         "xaxis": "x",
         "y": [
          109.88675741814355,
          110.09146850589697,
          112.85243683739718,
          112.08395153034263,
          111.34036247707208,
          112.06836266148218,
          113.0259797881183,
          113.5033743752093,
          111.68278511426495,
          112.63687421890357,
          113.51651396828188,
          114.1122121545387,
          115.14654058706944,
          114.97730941150732,
          116.82499779891435,
          115.9435678400572
         ],
         "yaxis": "y"
        },
        {
         "hovertemplate": "variable=Oberösterreich<br>Jahr=%{x}<br>value=%{y}<extra></extra>",
         "legendgroup": "Oberösterreich",
         "line": {
          "color": "#FFA15A",
          "dash": "solid"
         },
         "marker": {
          "symbol": "circle"
         },
         "mode": "lines",
         "name": "Oberösterreich",
         "orientation": "v",
         "showlegend": true,
         "type": "scatter",
         "x": [
          2004,
          2005,
          2006,
          2007,
          2008,
          2009,
          2010,
          2011,
          2012,
          2013,
          2014,
          2015,
          2016,
          2017,
          2018,
          2019
         ],
         "xaxis": "x",
         "y": [
          102.15152338191892,
          103.32470541907736,
          103.88750991914425,
          105.01231056082862,
          104.57998493859152,
          104.5854353233095,
          105.95506258386249,
          106.90810731189849,
          106.73135098948329,
          108.11070153061677,
          108.27738319890905,
          108.24489136140325,
          107.81665537450043,
          106.80949634163422,
          108.16945905044888,
          109.24860187428622
         ],
         "yaxis": "y"
        },
        {
         "hovertemplate": "variable=Salzburg<br>Jahr=%{x}<br>value=%{y}<extra></extra>",
         "legendgroup": "Salzburg",
         "line": {
          "color": "#19d3f3",
          "dash": "solid"
         },
         "marker": {
          "symbol": "circle"
         },
         "mode": "lines",
         "name": "Salzburg",
         "orientation": "v",
         "showlegend": true,
         "type": "scatter",
         "x": [
          2004,
          2005,
          2006,
          2007,
          2008,
          2009,
          2010,
          2011,
          2012,
          2013,
          2014,
          2015,
          2016,
          2017,
          2018,
          2019
         ],
         "xaxis": "x",
         "y": [
          92.7376662138901,
          93.26924917859508,
          93.90168589913458,
          94.6760031920623,
          95.54021397681258,
          93.61643791580777,
          95.24599055749131,
          95.41153795956875,
          95.28398759702793,
          95.26086478207641,
          95.1148384224571,
          95.03332011259472,
          95.48574421678636,
          96.32529256052338,
          96.69409975036201,
          96.93056241896693
         ],
         "yaxis": "y"
        },
        {
         "hovertemplate": "variable=Steiermark<br>Jahr=%{x}<br>value=%{y}<extra></extra>",
         "legendgroup": "Steiermark",
         "line": {
          "color": "#FF6692",
          "dash": "solid"
         },
         "marker": {
          "symbol": "circle"
         },
         "mode": "lines",
         "name": "Steiermark",
         "orientation": "v",
         "showlegend": true,
         "type": "scatter",
         "x": [
          2004,
          2005,
          2006,
          2007,
          2008,
          2009,
          2010,
          2011,
          2012,
          2013,
          2014,
          2015,
          2016,
          2017,
          2018,
          2019
         ],
         "xaxis": "x",
         "y": [
          101.54258763051466,
          102.8702815826487,
          102.35659201074664,
          103.12625490939519,
          104.21132137026655,
          104.40998516245034,
          103.609264629612,
          103.29471763269049,
          104.81580201993943,
          105.47087575594107,
          105.6863282941908,
          104.39423756888284,
          105.06766017494992,
          105.49704810702306,
          105.42324134435945,
          105.59339707505946
         ],
         "yaxis": "y"
        },
        {
         "hovertemplate": "variable=Tirol<br>Jahr=%{x}<br>value=%{y}<extra></extra>",
         "legendgroup": "Tirol",
         "line": {
          "color": "#B6E880",
          "dash": "solid"
         },
         "marker": {
          "symbol": "circle"
         },
         "mode": "lines",
         "name": "Tirol",
         "orientation": "v",
         "showlegend": true,
         "type": "scatter",
         "x": [
          2004,
          2005,
          2006,
          2007,
          2008,
          2009,
          2010,
          2011,
          2012,
          2013,
          2014,
          2015,
          2016,
          2017,
          2018,
          2019
         ],
         "xaxis": "x",
         "y": [
          96.54131388229058,
          96.73394578330361,
          97.30214004784611,
          99.50660086384732,
          99.3076766840339,
          98.43987996425498,
          98.82460293082146,
          100.20617297681349,
          99.16894357878859,
          98.81726678280438,
          99.2493229404891,
          100.19533106375205,
          98.55342841915017,
          99.01097520413094,
          98.22400877396457,
          97.59661944787398
         ],
         "yaxis": "y"
        },
        {
         "hovertemplate": "variable=Vorarlberg<br>Jahr=%{x}<br>value=%{y}<extra></extra>",
         "legendgroup": "Vorarlberg",
         "line": {
          "color": "#FF97FF",
          "dash": "solid"
         },
         "marker": {
          "symbol": "circle"
         },
         "mode": "lines",
         "name": "Vorarlberg",
         "orientation": "v",
         "showlegend": true,
         "type": "scatter",
         "x": [
          2004,
          2005,
          2006,
          2007,
          2008,
          2009,
          2010,
          2011,
          2012,
          2013,
          2014,
          2015,
          2016,
          2017,
          2018,
          2019
         ],
         "xaxis": "x",
         "y": [
          100.22461480623016,
          100.66390996231152,
          100.66616063326708,
          101.70328590540714,
          101.0493013034442,
          101.50430692101482,
          101.38586906965364,
          100.77826544922978,
          101.81631482494792,
          102.00459177683676,
          100.99194836889076,
          101.14925793470633,
          99.71670232978965,
          99.57098717196668,
          99.38876568147387,
          98.86652836019023
         ],
         "yaxis": "y"
        },
        {
         "hovertemplate": "variable=Wien<br>Jahr=%{x}<br>value=%{y}<extra></extra>",
         "legendgroup": "Wien",
         "line": {
          "color": "#FECB52",
          "dash": "solid"
         },
         "marker": {
          "symbol": "circle"
         },
         "mode": "lines",
         "name": "Wien",
         "orientation": "v",
         "showlegend": true,
         "type": "scatter",
         "x": [
          2004,
          2005,
          2006,
          2007,
          2008,
          2009,
          2010,
          2011,
          2012,
          2013,
          2014,
          2015,
          2016,
          2017,
          2018,
          2019
         ],
         "xaxis": "x",
         "y": [
          73.58241702503037,
          73.46425812387707,
          72.86838997433337,
          72.77754917768513,
          73.8568909639164,
          74.07289769951586,
          74.41188763865898,
          73.9199941971653,
          75.32785855990902,
          75.33206273329348,
          75.22205896525848,
          73.0068044999067,
          73.66018215364225,
          74.61445618768893,
          74.04626168145685,
          73.74384698680731
         ],
         "yaxis": "y"
        }
       ],
       "layout": {
        "autosize": true,
        "legend": {
         "title": {
          "text": "variable"
         },
         "tracegroupgap": 0
        },
        "margin": {
         "t": 60
        },
        "template": {
         "data": {
          "bar": [
           {
            "error_x": {
             "color": "#2a3f5f"
            },
            "error_y": {
             "color": "#2a3f5f"
            },
            "marker": {
             "line": {
              "color": "#E5ECF6",
              "width": 0.5
             },
             "pattern": {
              "fillmode": "overlay",
              "size": 10,
              "solidity": 0.2
             }
            },
            "type": "bar"
           }
          ],
          "barpolar": [
           {
            "marker": {
             "line": {
              "color": "#E5ECF6",
              "width": 0.5
             },
             "pattern": {
              "fillmode": "overlay",
              "size": 10,
              "solidity": 0.2
             }
            },
            "type": "barpolar"
           }
          ],
          "carpet": [
           {
            "aaxis": {
             "endlinecolor": "#2a3f5f",
             "gridcolor": "white",
             "linecolor": "white",
             "minorgridcolor": "white",
             "startlinecolor": "#2a3f5f"
            },
            "baxis": {
             "endlinecolor": "#2a3f5f",
             "gridcolor": "white",
             "linecolor": "white",
             "minorgridcolor": "white",
             "startlinecolor": "#2a3f5f"
            },
            "type": "carpet"
           }
          ],
          "choropleth": [
           {
            "colorbar": {
             "outlinewidth": 0,
             "ticks": ""
            },
            "type": "choropleth"
           }
          ],
          "contour": [
           {
            "colorbar": {
             "outlinewidth": 0,
             "ticks": ""
            },
            "colorscale": [
             [
              0,
              "#0d0887"
             ],
             [
              0.1111111111111111,
              "#46039f"
             ],
             [
              0.2222222222222222,
              "#7201a8"
             ],
             [
              0.3333333333333333,
              "#9c179e"
             ],
             [
              0.4444444444444444,
              "#bd3786"
             ],
             [
              0.5555555555555556,
              "#d8576b"
             ],
             [
              0.6666666666666666,
              "#ed7953"
             ],
             [
              0.7777777777777778,
              "#fb9f3a"
             ],
             [
              0.8888888888888888,
              "#fdca26"
             ],
             [
              1,
              "#f0f921"
             ]
            ],
            "type": "contour"
           }
          ],
          "contourcarpet": [
           {
            "colorbar": {
             "outlinewidth": 0,
             "ticks": ""
            },
            "type": "contourcarpet"
           }
          ],
          "heatmap": [
           {
            "colorbar": {
             "outlinewidth": 0,
             "ticks": ""
            },
            "colorscale": [
             [
              0,
              "#0d0887"
             ],
             [
              0.1111111111111111,
              "#46039f"
             ],
             [
              0.2222222222222222,
              "#7201a8"
             ],
             [
              0.3333333333333333,
              "#9c179e"
             ],
             [
              0.4444444444444444,
              "#bd3786"
             ],
             [
              0.5555555555555556,
              "#d8576b"
             ],
             [
              0.6666666666666666,
              "#ed7953"
             ],
             [
              0.7777777777777778,
              "#fb9f3a"
             ],
             [
              0.8888888888888888,
              "#fdca26"
             ],
             [
              1,
              "#f0f921"
             ]
            ],
            "type": "heatmap"
           }
          ],
          "heatmapgl": [
           {
            "colorbar": {
             "outlinewidth": 0,
             "ticks": ""
            },
            "colorscale": [
             [
              0,
              "#0d0887"
             ],
             [
              0.1111111111111111,
              "#46039f"
             ],
             [
              0.2222222222222222,
              "#7201a8"
             ],
             [
              0.3333333333333333,
              "#9c179e"
             ],
             [
              0.4444444444444444,
              "#bd3786"
             ],
             [
              0.5555555555555556,
              "#d8576b"
             ],
             [
              0.6666666666666666,
              "#ed7953"
             ],
             [
              0.7777777777777778,
              "#fb9f3a"
             ],
             [
              0.8888888888888888,
              "#fdca26"
             ],
             [
              1,
              "#f0f921"
             ]
            ],
            "type": "heatmapgl"
           }
          ],
          "histogram": [
           {
            "marker": {
             "pattern": {
              "fillmode": "overlay",
              "size": 10,
              "solidity": 0.2
             }
            },
            "type": "histogram"
           }
          ],
          "histogram2d": [
           {
            "colorbar": {
             "outlinewidth": 0,
             "ticks": ""
            },
            "colorscale": [
             [
              0,
              "#0d0887"
             ],
             [
              0.1111111111111111,
              "#46039f"
             ],
             [
              0.2222222222222222,
              "#7201a8"
             ],
             [
              0.3333333333333333,
              "#9c179e"
             ],
             [
              0.4444444444444444,
              "#bd3786"
             ],
             [
              0.5555555555555556,
              "#d8576b"
             ],
             [
              0.6666666666666666,
              "#ed7953"
             ],
             [
              0.7777777777777778,
              "#fb9f3a"
             ],
             [
              0.8888888888888888,
              "#fdca26"
             ],
             [
              1,
              "#f0f921"
             ]
            ],
            "type": "histogram2d"
           }
          ],
          "histogram2dcontour": [
           {
            "colorbar": {
             "outlinewidth": 0,
             "ticks": ""
            },
            "colorscale": [
             [
              0,
              "#0d0887"
             ],
             [
              0.1111111111111111,
              "#46039f"
             ],
             [
              0.2222222222222222,
              "#7201a8"
             ],
             [
              0.3333333333333333,
              "#9c179e"
             ],
             [
              0.4444444444444444,
              "#bd3786"
             ],
             [
              0.5555555555555556,
              "#d8576b"
             ],
             [
              0.6666666666666666,
              "#ed7953"
             ],
             [
              0.7777777777777778,
              "#fb9f3a"
             ],
             [
              0.8888888888888888,
              "#fdca26"
             ],
             [
              1,
              "#f0f921"
             ]
            ],
            "type": "histogram2dcontour"
           }
          ],
          "mesh3d": [
           {
            "colorbar": {
             "outlinewidth": 0,
             "ticks": ""
            },
            "type": "mesh3d"
           }
          ],
          "parcoords": [
           {
            "line": {
             "colorbar": {
              "outlinewidth": 0,
              "ticks": ""
             }
            },
            "type": "parcoords"
           }
          ],
          "pie": [
           {
            "automargin": true,
            "type": "pie"
           }
          ],
          "scatter": [
           {
            "marker": {
             "colorbar": {
              "outlinewidth": 0,
              "ticks": ""
             }
            },
            "type": "scatter"
           }
          ],
          "scatter3d": [
           {
            "line": {
             "colorbar": {
              "outlinewidth": 0,
              "ticks": ""
             }
            },
            "marker": {
             "colorbar": {
              "outlinewidth": 0,
              "ticks": ""
             }
            },
            "type": "scatter3d"
           }
          ],
          "scattercarpet": [
           {
            "marker": {
             "colorbar": {
              "outlinewidth": 0,
              "ticks": ""
             }
            },
            "type": "scattercarpet"
           }
          ],
          "scattergeo": [
           {
            "marker": {
             "colorbar": {
              "outlinewidth": 0,
              "ticks": ""
             }
            },
            "type": "scattergeo"
           }
          ],
          "scattergl": [
           {
            "marker": {
             "colorbar": {
              "outlinewidth": 0,
              "ticks": ""
             }
            },
            "type": "scattergl"
           }
          ],
          "scattermapbox": [
           {
            "marker": {
             "colorbar": {
              "outlinewidth": 0,
              "ticks": ""
             }
            },
            "type": "scattermapbox"
           }
          ],
          "scatterpolar": [
           {
            "marker": {
             "colorbar": {
              "outlinewidth": 0,
              "ticks": ""
             }
            },
            "type": "scatterpolar"
           }
          ],
          "scatterpolargl": [
           {
            "marker": {
             "colorbar": {
              "outlinewidth": 0,
              "ticks": ""
             }
            },
            "type": "scatterpolargl"
           }
          ],
          "scatterternary": [
           {
            "marker": {
             "colorbar": {
              "outlinewidth": 0,
              "ticks": ""
             }
            },
            "type": "scatterternary"
           }
          ],
          "surface": [
           {
            "colorbar": {
             "outlinewidth": 0,
             "ticks": ""
            },
            "colorscale": [
             [
              0,
              "#0d0887"
             ],
             [
              0.1111111111111111,
              "#46039f"
             ],
             [
              0.2222222222222222,
              "#7201a8"
             ],
             [
              0.3333333333333333,
              "#9c179e"
             ],
             [
              0.4444444444444444,
              "#bd3786"
             ],
             [
              0.5555555555555556,
              "#d8576b"
             ],
             [
              0.6666666666666666,
              "#ed7953"
             ],
             [
              0.7777777777777778,
              "#fb9f3a"
             ],
             [
              0.8888888888888888,
              "#fdca26"
             ],
             [
              1,
              "#f0f921"
             ]
            ],
            "type": "surface"
           }
          ],
          "table": [
           {
            "cells": {
             "fill": {
              "color": "#EBF0F8"
             },
             "line": {
              "color": "white"
             }
            },
            "header": {
             "fill": {
              "color": "#C8D4E3"
             },
             "line": {
              "color": "white"
             }
            },
            "type": "table"
           }
          ]
         },
         "layout": {
          "annotationdefaults": {
           "arrowcolor": "#2a3f5f",
           "arrowhead": 0,
           "arrowwidth": 1
          },
          "autotypenumbers": "strict",
          "coloraxis": {
           "colorbar": {
            "outlinewidth": 0,
            "ticks": ""
           }
          },
          "colorscale": {
           "diverging": [
            [
             0,
             "#8e0152"
            ],
            [
             0.1,
             "#c51b7d"
            ],
            [
             0.2,
             "#de77ae"
            ],
            [
             0.3,
             "#f1b6da"
            ],
            [
             0.4,
             "#fde0ef"
            ],
            [
             0.5,
             "#f7f7f7"
            ],
            [
             0.6,
             "#e6f5d0"
            ],
            [
             0.7,
             "#b8e186"
            ],
            [
             0.8,
             "#7fbc41"
            ],
            [
             0.9,
             "#4d9221"
            ],
            [
             1,
             "#276419"
            ]
           ],
           "sequential": [
            [
             0,
             "#0d0887"
            ],
            [
             0.1111111111111111,
             "#46039f"
            ],
            [
             0.2222222222222222,
             "#7201a8"
            ],
            [
             0.3333333333333333,
             "#9c179e"
            ],
            [
             0.4444444444444444,
             "#bd3786"
            ],
            [
             0.5555555555555556,
             "#d8576b"
            ],
            [
             0.6666666666666666,
             "#ed7953"
            ],
            [
             0.7777777777777778,
             "#fb9f3a"
            ],
            [
             0.8888888888888888,
             "#fdca26"
            ],
            [
             1,
             "#f0f921"
            ]
           ],
           "sequentialminus": [
            [
             0,
             "#0d0887"
            ],
            [
             0.1111111111111111,
             "#46039f"
            ],
            [
             0.2222222222222222,
             "#7201a8"
            ],
            [
             0.3333333333333333,
             "#9c179e"
            ],
            [
             0.4444444444444444,
             "#bd3786"
            ],
            [
             0.5555555555555556,
             "#d8576b"
            ],
            [
             0.6666666666666666,
             "#ed7953"
            ],
            [
             0.7777777777777778,
             "#fb9f3a"
            ],
            [
             0.8888888888888888,
             "#fdca26"
            ],
            [
             1,
             "#f0f921"
            ]
           ]
          },
          "colorway": [
           "#636efa",
           "#EF553B",
           "#00cc96",
           "#ab63fa",
           "#FFA15A",
           "#19d3f3",
           "#FF6692",
           "#B6E880",
           "#FF97FF",
           "#FECB52"
          ],
          "font": {
           "color": "#2a3f5f"
          },
          "geo": {
           "bgcolor": "white",
           "lakecolor": "white",
           "landcolor": "#E5ECF6",
           "showlakes": true,
           "showland": true,
           "subunitcolor": "white"
          },
          "hoverlabel": {
           "align": "left"
          },
          "hovermode": "closest",
          "mapbox": {
           "style": "light"
          },
          "paper_bgcolor": "white",
          "plot_bgcolor": "#E5ECF6",
          "polar": {
           "angularaxis": {
            "gridcolor": "white",
            "linecolor": "white",
            "ticks": ""
           },
           "bgcolor": "#E5ECF6",
           "radialaxis": {
            "gridcolor": "white",
            "linecolor": "white",
            "ticks": ""
           }
          },
          "scene": {
           "xaxis": {
            "backgroundcolor": "#E5ECF6",
            "gridcolor": "white",
            "gridwidth": 2,
            "linecolor": "white",
            "showbackground": true,
            "ticks": "",
            "zerolinecolor": "white"
           },
           "yaxis": {
            "backgroundcolor": "#E5ECF6",
            "gridcolor": "white",
            "gridwidth": 2,
            "linecolor": "white",
            "showbackground": true,
            "ticks": "",
            "zerolinecolor": "white"
           },
           "zaxis": {
            "backgroundcolor": "#E5ECF6",
            "gridcolor": "white",
            "gridwidth": 2,
            "linecolor": "white",
            "showbackground": true,
            "ticks": "",
            "zerolinecolor": "white"
           }
          },
          "shapedefaults": {
           "line": {
            "color": "#2a3f5f"
           }
          },
          "ternary": {
           "aaxis": {
            "gridcolor": "white",
            "linecolor": "white",
            "ticks": ""
           },
           "baxis": {
            "gridcolor": "white",
            "linecolor": "white",
            "ticks": ""
           },
           "bgcolor": "#E5ECF6",
           "caxis": {
            "gridcolor": "white",
            "linecolor": "white",
            "ticks": ""
           }
          },
          "title": {
           "x": 0.05
          },
          "xaxis": {
           "automargin": true,
           "gridcolor": "white",
           "linecolor": "white",
           "ticks": "",
           "title": {
            "standoff": 15
           },
           "zerolinecolor": "white",
           "zerolinewidth": 2
          },
          "yaxis": {
           "automargin": true,
           "gridcolor": "white",
           "linecolor": "white",
           "ticks": "",
           "title": {
            "standoff": 15
           },
           "zerolinecolor": "white",
           "zerolinewidth": 2
          }
         }
        },
        "xaxis": {
         "anchor": "y",
         "autorange": true,
         "domain": [
          0,
          1
         ],
         "range": [
          2004,
          2019
         ],
         "title": {
          "text": "Jahr"
         },
         "type": "linear"
        },
        "yaxis": {
         "anchor": "x",
         "autorange": true,
         "domain": [
          0,
          1
         ],
         "range": [
          69.81846439124821,
          129.00016011998665
         ],
         "title": {
          "text": "value"
         },
         "type": "linear"
        }
       }
      },
      "image/png": "[encoded data removed]",
      "text/html": [
       "<div>                            <div id=\"dbc57369-e70b-44c0-b51b-3598e88c42c8\" class=\"plotly-graph-div\" style=\"height:525px; width:100%;\"></div>            <script type=\"text/javascript\">                require([\"plotly\"], function(Plotly) {                    window.PLOTLYENV=window.PLOTLYENV || {};                                    if (document.getElementById(\"dbc57369-e70b-44c0-b51b-3598e88c42c8\")) {                    Plotly.newPlot(                        \"dbc57369-e70b-44c0-b51b-3598e88c42c8\",                        [{\"hovertemplate\":\"variable=\\u00d6sterreich<br>Jahr=%{x}<br>value=%{y}<extra></extra>\",\"legendgroup\":\"\\u00d6sterreich\",\"line\":{\"color\":\"#636efa\",\"dash\":\"solid\"},\"marker\":{\"symbol\":\"circle\"},\"mode\":\"lines\",\"name\":\"\\u00d6sterreich\",\"orientation\":\"v\",\"showlegend\":true,\"x\":[2004,2005,2006,2007,2008,2009,2010,2011,2012,2013,2014,2015,2016,2017,2018,2019],\"xaxis\":\"x\",\"y\":[96.40273272170325,96.85969831427367,97.41811863771713,97.78578775626038,97.9975385130157,98.19222555879747,98.76374843738111,99.0002998881488,99.07445064476155,99.64126935133405,99.7311553651165,99.19642026456455,99.32521376582446,99.64117407032698,100.05924754841602,99.98928930734941],\"yaxis\":\"y\",\"type\":\"scatter\"},{\"hovertemplate\":\"variable=Burgenland<br>Jahr=%{x}<br>value=%{y}<extra></extra>\",\"legendgroup\":\"Burgenland\",\"line\":{\"color\":\"#EF553B\",\"dash\":\"solid\"},\"marker\":{\"symbol\":\"circle\"},\"mode\":\"lines\",\"name\":\"Burgenland\",\"orientation\":\"v\",\"showlegend\":true,\"x\":[2004,2005,2006,2007,2008,2009,2010,2011,2012,2013,2014,2015,2016,2017,2018,2019],\"xaxis\":\"x\",\"y\":[118.0389543138649,118.91708026189713,121.26285534953517,120.01303574550208,122.4646864254896,121.56229529768589,122.15313289170057,123.32787731386541,122.67614969468009,126.04107533354971,122.48791599305152,123.4900749752757,123.42434300001665,124.7660431953887,124.3312501990157,123.99160864531979],\"yaxis\":\"y\",\"type\":\"scatter\"},{\"hovertemplate\":\"variable=K\\u00e4rnten<br>Jahr=%{x}<br>value=%{y}<extra></extra>\",\"legendgroup\":\"K\\u00e4rnten\",\"line\":{\"color\":\"#00cc96\",\"dash\":\"solid\"},\"marker\":{\"symbol\":\"circle\"},\"mode\":\"lines\",\"name\":\"K\\u00e4rnten\",\"orientation\":\"v\",\"showlegend\":true,\"x\":[2004,2005,2006,2007,2008,2009,2010,2011,2012,2013,2014,2015,2016,2017,2018,2019],\"xaxis\":\"x\",\"y\":[104.57559704405482,104.13675535321238,104.10388701489296,104.07575776555453,102.77526917245422,105.14492784595697,105.82113103898662,106.04309552524631,105.90401148566453,106.22702867679361,107.31432384340567,106.78877570080492,105.93217066274232,107.13274139285554,107.94741385286606,107.78005080264383],\"yaxis\":\"y\",\"type\":\"scatter\"},{\"hovertemplate\":\"variable=Nieder\\u00f6sterreich<br>Jahr=%{x}<br>value=%{y}<extra></extra>\",\"legendgroup\":\"Nieder\\u00f6sterreich\",\"line\":{\"color\":\"#ab63fa\",\"dash\":\"solid\"},\"marker\":{\"symbol\":\"circle\"},\"mode\":\"lines\",\"name\":\"Nieder\\u00f6sterreich\",\"orientation\":\"v\",\"showlegend\":true,\"x\":[2004,2005,2006,2007,2008,2009,2010,2011,2012,2013,2014,2015,2016,2017,2018,2019],\"xaxis\":\"x\",\"y\":[109.88675741814355,110.09146850589697,112.85243683739718,112.08395153034263,111.34036247707208,112.06836266148218,113.0259797881183,113.5033743752093,111.68278511426495,112.63687421890357,113.51651396828188,114.1122121545387,115.14654058706944,114.97730941150732,116.82499779891435,115.9435678400572],\"yaxis\":\"y\",\"type\":\"scatter\"},{\"hovertemplate\":\"variable=Ober\\u00f6sterreich<br>Jahr=%{x}<br>value=%{y}<extra></extra>\",\"legendgroup\":\"Ober\\u00f6sterreich\",\"line\":{\"color\":\"#FFA15A\",\"dash\":\"solid\"},\"marker\":{\"symbol\":\"circle\"},\"mode\":\"lines\",\"name\":\"Ober\\u00f6sterreich\",\"orientation\":\"v\",\"showlegend\":true,\"x\":[2004,2005,2006,2007,2008,2009,2010,2011,2012,2013,2014,2015,2016,2017,2018,2019],\"xaxis\":\"x\",\"y\":[102.15152338191892,103.32470541907736,103.88750991914425,105.01231056082862,104.57998493859152,104.5854353233095,105.95506258386249,106.90810731189849,106.73135098948329,108.11070153061677,108.27738319890905,108.24489136140325,107.81665537450043,106.80949634163422,108.16945905044888,109.24860187428622],\"yaxis\":\"y\",\"type\":\"scatter\"},{\"hovertemplate\":\"variable=Salzburg<br>Jahr=%{x}<br>value=%{y}<extra></extra>\",\"legendgroup\":\"Salzburg\",\"line\":{\"color\":\"#19d3f3\",\"dash\":\"solid\"},\"marker\":{\"symbol\":\"circle\"},\"mode\":\"lines\",\"name\":\"Salzburg\",\"orientation\":\"v\",\"showlegend\":true,\"x\":[2004,2005,2006,2007,2008,2009,2010,2011,2012,2013,2014,2015,2016,2017,2018,2019],\"xaxis\":\"x\",\"y\":[92.7376662138901,93.26924917859508,93.90168589913458,94.6760031920623,95.54021397681258,93.61643791580777,95.24599055749131,95.41153795956875,95.28398759702793,95.26086478207641,95.1148384224571,95.03332011259472,95.48574421678636,96.32529256052338,96.69409975036201,96.93056241896693],\"yaxis\":\"y\",\"type\":\"scatter\"},{\"hovertemplate\":\"variable=Steiermark<br>Jahr=%{x}<br>value=%{y}<extra></extra>\",\"legendgroup\":\"Steiermark\",\"line\":{\"color\":\"#FF6692\",\"dash\":\"solid\"},\"marker\":{\"symbol\":\"circle\"},\"mode\":\"lines\",\"name\":\"Steiermark\",\"orientation\":\"v\",\"showlegend\":true,\"x\":[2004,2005,2006,2007,2008,2009,2010,2011,2012,2013,2014,2015,2016,2017,2018,2019],\"xaxis\":\"x\",\"y\":[101.54258763051466,102.8702815826487,102.35659201074664,103.12625490939519,104.21132137026655,104.40998516245034,103.609264629612,103.29471763269049,104.81580201993943,105.47087575594107,105.6863282941908,104.39423756888284,105.06766017494992,105.49704810702306,105.42324134435945,105.59339707505946],\"yaxis\":\"y\",\"type\":\"scatter\"},{\"hovertemplate\":\"variable=Tirol<br>Jahr=%{x}<br>value=%{y}<extra></extra>\",\"legendgroup\":\"Tirol\",\"line\":{\"color\":\"#B6E880\",\"dash\":\"solid\"},\"marker\":{\"symbol\":\"circle\"},\"mode\":\"lines\",\"name\":\"Tirol\",\"orientation\":\"v\",\"showlegend\":true,\"x\":[2004,2005,2006,2007,2008,2009,2010,2011,2012,2013,2014,2015,2016,2017,2018,2019],\"xaxis\":\"x\",\"y\":[96.54131388229058,96.73394578330361,97.30214004784611,99.50660086384732,99.3076766840339,98.43987996425498,98.82460293082146,100.20617297681349,99.16894357878859,98.81726678280438,99.2493229404891,100.19533106375205,98.55342841915017,99.01097520413094,98.22400877396457,97.59661944787398],\"yaxis\":\"y\",\"type\":\"scatter\"},{\"hovertemplate\":\"variable=Vorarlberg<br>Jahr=%{x}<br>value=%{y}<extra></extra>\",\"legendgroup\":\"Vorarlberg\",\"line\":{\"color\":\"#FF97FF\",\"dash\":\"solid\"},\"marker\":{\"symbol\":\"circle\"},\"mode\":\"lines\",\"name\":\"Vorarlberg\",\"orientation\":\"v\",\"showlegend\":true,\"x\":[2004,2005,2006,2007,2008,2009,2010,2011,2012,2013,2014,2015,2016,2017,2018,2019],\"xaxis\":\"x\",\"y\":[100.22461480623016,100.66390996231152,100.66616063326708,101.70328590540714,101.0493013034442,101.50430692101482,101.38586906965364,100.77826544922978,101.81631482494792,102.00459177683676,100.99194836889076,101.14925793470633,99.71670232978965,99.57098717196668,99.38876568147387,98.86652836019023],\"yaxis\":\"y\",\"type\":\"scatter\"},{\"hovertemplate\":\"variable=Wien<br>Jahr=%{x}<br>value=%{y}<extra></extra>\",\"legendgroup\":\"Wien\",\"line\":{\"color\":\"#FECB52\",\"dash\":\"solid\"},\"marker\":{\"symbol\":\"circle\"},\"mode\":\"lines\",\"name\":\"Wien\",\"orientation\":\"v\",\"showlegend\":true,\"x\":[2004,2005,2006,2007,2008,2009,2010,2011,2012,2013,2014,2015,2016,2017,2018,2019],\"xaxis\":\"x\",\"y\":[73.58241702503037,73.46425812387707,72.86838997433337,72.77754917768513,73.8568909639164,74.07289769951586,74.41188763865898,73.9199941971653,75.32785855990902,75.33206273329348,75.22205896525848,73.0068044999067,73.66018215364225,74.61445618768893,74.04626168145685,73.74384698680731],\"yaxis\":\"y\",\"type\":\"scatter\"}],                        {\"template\":{\"data\":{\"bar\":[{\"error_x\":{\"color\":\"#2a3f5f\"},\"error_y\":{\"color\":\"#2a3f5f\"},\"marker\":{\"line\":{\"color\":\"#E5ECF6\",\"width\":0.5},\"pattern\":{\"fillmode\":\"overlay\",\"size\":10,\"solidity\":0.2}},\"type\":\"bar\"}],\"barpolar\":[{\"marker\":{\"line\":{\"color\":\"#E5ECF6\",\"width\":0.5},\"pattern\":{\"fillmode\":\"overlay\",\"size\":10,\"solidity\":0.2}},\"type\":\"barpolar\"}],\"carpet\":[{\"aaxis\":{\"endlinecolor\":\"#2a3f5f\",\"gridcolor\":\"white\",\"linecolor\":\"white\",\"minorgridcolor\":\"white\",\"startlinecolor\":\"#2a3f5f\"},\"baxis\":{\"endlinecolor\":\"#2a3f5f\",\"gridcolor\":\"white\",\"linecolor\":\"white\",\"minorgridcolor\":\"white\",\"startlinecolor\":\"#2a3f5f\"},\"type\":\"carpet\"}],\"choropleth\":[{\"colorbar\":{\"outlinewidth\":0,\"ticks\":\"\"},\"type\":\"choropleth\"}],\"contour\":[{\"colorbar\":{\"outlinewidth\":0,\"ticks\":\"\"},\"colorscale\":[[0.0,\"#0d0887\"],[0.1111111111111111,\"#46039f\"],[0.2222222222222222,\"#7201a8\"],[0.3333333333333333,\"#9c179e\"],[0.4444444444444444,\"#bd3786\"],[0.5555555555555556,\"#d8576b\"],[0.6666666666666666,\"#ed7953\"],[0.7777777777777778,\"#fb9f3a\"],[0.8888888888888888,\"#fdca26\"],[1.0,\"#f0f921\"]],\"type\":\"contour\"}],\"contourcarpet\":[{\"colorbar\":{\"outlinewidth\":0,\"ticks\":\"\"},\"type\":\"contourcarpet\"}],\"heatmap\":[{\"colorbar\":{\"outlinewidth\":0,\"ticks\":\"\"},\"colorscale\":[[0.0,\"#0d0887\"],[0.1111111111111111,\"#46039f\"],[0.2222222222222222,\"#7201a8\"],[0.3333333333333333,\"#9c179e\"],[0.4444444444444444,\"#bd3786\"],[0.5555555555555556,\"#d8576b\"],[0.6666666666666666,\"#ed7953\"],[0.7777777777777778,\"#fb9f3a\"],[0.8888888888888888,\"#fdca26\"],[1.0,\"#f0f921\"]],\"type\":\"heatmap\"}],\"heatmapgl\":[{\"colorbar\":{\"outlinewidth\":0,\"ticks\":\"\"},\"colorscale\":[[0.0,\"#0d0887\"],[0.1111111111111111,\"#46039f\"],[0.2222222222222222,\"#7201a8\"],[0.3333333333333333,\"#9c179e\"],[0.4444444444444444,\"#bd3786\"],[0.5555555555555556,\"#d8576b\"],[0.6666666666666666,\"#ed7953\"],[0.7777777777777778,\"#fb9f3a\"],[0.8888888888888888,\"#fdca26\"],[1.0,\"#f0f921\"]],\"type\":\"heatmapgl\"}],\"histogram\":[{\"marker\":{\"pattern\":{\"fillmode\":\"overlay\",\"size\":10,\"solidity\":0.2}},\"type\":\"histogram\"}],\"histogram2d\":[{\"colorbar\":{\"outlinewidth\":0,\"ticks\":\"\"},\"colorscale\":[[0.0,\"#0d0887\"],[0.1111111111111111,\"#46039f\"],[0.2222222222222222,\"#7201a8\"],[0.3333333333333333,\"#9c179e\"],[0.4444444444444444,\"#bd3786\"],[0.5555555555555556,\"#d8576b\"],[0.6666666666666666,\"#ed7953\"],[0.7777777777777778,\"#fb9f3a\"],[0.8888888888888888,\"#fdca26\"],[1.0,\"#f0f921\"]],\"type\":\"histogram2d\"}],\"histogram2dcontour\":[{\"colorbar\":{\"outlinewidth\":0,\"ticks\":\"\"},\"colorscale\":[[0.0,\"#0d0887\"],[0.1111111111111111,\"#46039f\"],[0.2222222222222222,\"#7201a8\"],[0.3333333333333333,\"#9c179e\"],[0.4444444444444444,\"#bd3786\"],[0.5555555555555556,\"#d8576b\"],[0.6666666666666666,\"#ed7953\"],[0.7777777777777778,\"#fb9f3a\"],[0.8888888888888888,\"#fdca26\"],[1.0,\"#f0f921\"]],\"type\":\"histogram2dcontour\"}],\"mesh3d\":[{\"colorbar\":{\"outlinewidth\":0,\"ticks\":\"\"},\"type\":\"mesh3d\"}],\"parcoords\":[{\"line\":{\"colorbar\":{\"outlinewidth\":0,\"ticks\":\"\"}},\"type\":\"parcoords\"}],\"pie\":[{\"automargin\":true,\"type\":\"pie\"}],\"scatter\":[{\"marker\":{\"colorbar\":{\"outlinewidth\":0,\"ticks\":\"\"}},\"type\":\"scatter\"}],\"scatter3d\":[{\"line\":{\"colorbar\":{\"outlinewidth\":0,\"ticks\":\"\"}},\"marker\":{\"colorbar\":{\"outlinewidth\":0,\"ticks\":\"\"}},\"type\":\"scatter3d\"}],\"scattercarpet\":[{\"marker\":{\"colorbar\":{\"outlinewidth\":0,\"ticks\":\"\"}},\"type\":\"scattercarpet\"}],\"scattergeo\":[{\"marker\":{\"colorbar\":{\"outlinewidth\":0,\"ticks\":\"\"}},\"type\":\"scattergeo\"}],\"scattergl\":[{\"marker\":{\"colorbar\":{\"outlinewidth\":0,\"ticks\":\"\"}},\"type\":\"scattergl\"}],\"scattermapbox\":[{\"marker\":{\"colorbar\":{\"outlinewidth\":0,\"ticks\":\"\"}},\"type\":\"scattermapbox\"}],\"scatterpolar\":[{\"marker\":{\"colorbar\":{\"outlinewidth\":0,\"ticks\":\"\"}},\"type\":\"scatterpolar\"}],\"scatterpolargl\":[{\"marker\":{\"colorbar\":{\"outlinewidth\":0,\"ticks\":\"\"}},\"type\":\"scatterpolargl\"}],\"scatterternary\":[{\"marker\":{\"colorbar\":{\"outlinewidth\":0,\"ticks\":\"\"}},\"type\":\"scatterternary\"}],\"surface\":[{\"colorbar\":{\"outlinewidth\":0,\"ticks\":\"\"},\"colorscale\":[[0.0,\"#0d0887\"],[0.1111111111111111,\"#46039f\"],[0.2222222222222222,\"#7201a8\"],[0.3333333333333333,\"#9c179e\"],[0.4444444444444444,\"#bd3786\"],[0.5555555555555556,\"#d8576b\"],[0.6666666666666666,\"#ed7953\"],[0.7777777777777778,\"#fb9f3a\"],[0.8888888888888888,\"#fdca26\"],[1.0,\"#f0f921\"]],\"type\":\"surface\"}],\"table\":[{\"cells\":{\"fill\":{\"color\":\"#EBF0F8\"},\"line\":{\"color\":\"white\"}},\"header\":{\"fill\":{\"color\":\"#C8D4E3\"},\"line\":{\"color\":\"white\"}},\"type\":\"table\"}]},\"layout\":{\"annotationdefaults\":{\"arrowcolor\":\"#2a3f5f\",\"arrowhead\":0,\"arrowwidth\":1},\"autotypenumbers\":\"strict\",\"coloraxis\":{\"colorbar\":{\"outlinewidth\":0,\"ticks\":\"\"}},\"colorscale\":{\"diverging\":[[0,\"#8e0152\"],[0.1,\"#c51b7d\"],[0.2,\"#de77ae\"],[0.3,\"#f1b6da\"],[0.4,\"#fde0ef\"],[0.5,\"#f7f7f7\"],[0.6,\"#e6f5d0\"],[0.7,\"#b8e186\"],[0.8,\"#7fbc41\"],[0.9,\"#4d9221\"],[1,\"#276419\"]],\"sequential\":[[0.0,\"#0d0887\"],[0.1111111111111111,\"#46039f\"],[0.2222222222222222,\"#7201a8\"],[0.3333333333333333,\"#9c179e\"],[0.4444444444444444,\"#bd3786\"],[0.5555555555555556,\"#d8576b\"],[0.6666666666666666,\"#ed7953\"],[0.7777777777777778,\"#fb9f3a\"],[0.8888888888888888,\"#fdca26\"],[1.0,\"#f0f921\"]],\"sequentialminus\":[[0.0,\"#0d0887\"],[0.1111111111111111,\"#46039f\"],[0.2222222222222222,\"#7201a8\"],[0.3333333333333333,\"#9c179e\"],[0.4444444444444444,\"#bd3786\"],[0.5555555555555556,\"#d8576b\"],[0.6666666666666666,\"#ed7953\"],[0.7777777777777778,\"#fb9f3a\"],[0.8888888888888888,\"#fdca26\"],[1.0,\"#f0f921\"]]},\"colorway\":[\"#636efa\",\"#EF553B\",\"#00cc96\",\"#ab63fa\",\"#FFA15A\",\"#19d3f3\",\"#FF6692\",\"#B6E880\",\"#FF97FF\",\"#FECB52\"],\"font\":{\"color\":\"#2a3f5f\"},\"geo\":{\"bgcolor\":\"white\",\"lakecolor\":\"white\",\"landcolor\":\"#E5ECF6\",\"showlakes\":true,\"showland\":true,\"subunitcolor\":\"white\"},\"hoverlabel\":{\"align\":\"left\"},\"hovermode\":\"closest\",\"mapbox\":{\"style\":\"light\"},\"paper_bgcolor\":\"white\",\"plot_bgcolor\":\"#E5ECF6\",\"polar\":{\"angularaxis\":{\"gridcolor\":\"white\",\"linecolor\":\"white\",\"ticks\":\"\"},\"bgcolor\":\"#E5ECF6\",\"radialaxis\":{\"gridcolor\":\"white\",\"linecolor\":\"white\",\"ticks\":\"\"}},\"scene\":{\"xaxis\":{\"backgroundcolor\":\"#E5ECF6\",\"gridcolor\":\"white\",\"gridwidth\":2,\"linecolor\":\"white\",\"showbackground\":true,\"ticks\":\"\",\"zerolinecolor\":\"white\"},\"yaxis\":{\"backgroundcolor\":\"#E5ECF6\",\"gridcolor\":\"white\",\"gridwidth\":2,\"linecolor\":\"white\",\"showbackground\":true,\"ticks\":\"\",\"zerolinecolor\":\"white\"},\"zaxis\":{\"backgroundcolor\":\"#E5ECF6\",\"gridcolor\":\"white\",\"gridwidth\":2,\"linecolor\":\"white\",\"showbackground\":true,\"ticks\":\"\",\"zerolinecolor\":\"white\"}},\"shapedefaults\":{\"line\":{\"color\":\"#2a3f5f\"}},\"ternary\":{\"aaxis\":{\"gridcolor\":\"white\",\"linecolor\":\"white\",\"ticks\":\"\"},\"baxis\":{\"gridcolor\":\"white\",\"linecolor\":\"white\",\"ticks\":\"\"},\"bgcolor\":\"#E5ECF6\",\"caxis\":{\"gridcolor\":\"white\",\"linecolor\":\"white\",\"ticks\":\"\"}},\"title\":{\"x\":0.05},\"xaxis\":{\"automargin\":true,\"gridcolor\":\"white\",\"linecolor\":\"white\",\"ticks\":\"\",\"title\":{\"standoff\":15},\"zerolinecolor\":\"white\",\"zerolinewidth\":2},\"yaxis\":{\"automargin\":true,\"gridcolor\":\"white\",\"linecolor\":\"white\",\"ticks\":\"\",\"title\":{\"standoff\":15},\"zerolinecolor\":\"white\",\"zerolinewidth\":2}}},\"xaxis\":{\"anchor\":\"y\",\"domain\":[0.0,1.0],\"title\":{\"text\":\"Jahr\"}},\"yaxis\":{\"anchor\":\"x\",\"domain\":[0.0,1.0],\"title\":{\"text\":\"value\"}},\"legend\":{\"title\":{\"text\":\"variable\"},\"tracegroupgap\":0},\"margin\":{\"t\":60}},                        {\"responsive\": true}                    ).then(function(){\n",
       "                            \n",
       "var gd = document.getElementById('dbc57369-e70b-44c0-b51b-3598e88c42c8');\n",
       "var x = new MutationObserver(function (mutations, observer) {{\n",
       "        var display = window.getComputedStyle(gd).display;\n",
       "        if (!display || display === 'none') {{\n",
       "            console.log([gd, 'removed!']);\n",
       "            Plotly.purge(gd);\n",
       "            observer.disconnect();\n",
       "        }}\n",
       "}});\n",
       "\n",
       "// Listen for the removal of the full notebook cells\n",
       "var notebookContainer = gd.closest('#notebook-container');\n",
       "if (notebookContainer) {{\n",
       "    x.observe(notebookContainer, {childList: true});\n",
       "}}\n",
       "\n",
       "// Listen for the clearing of the current output cell\n",
       "var outputEl = gd.closest('.output');\n",
       "if (outputEl) {{\n",
       "    x.observe(outputEl, {childList: true});\n",
       "}}\n",
       "\n",
       "                        })                };                });            </script>        </div>"
      ]
     },
     "metadata": {},
     "output_type": "display_data"
    }
   ],
   "source": [
    "fig = px.line(averageWohnfläche_melt, \n",
    "                  x=averageWohnfläche_melt.Jahr, \n",
    "                  y=averageWohnfläche_melt.value,\n",
    "                  color='variable'\n",
    "                 )\n",
    "fig.show()"
   ]
  },
  {
   "cell_type": "code",
   "execution_count": 25,
   "metadata": {},
   "outputs": [],
   "source": [
    "averagePricePerMeter = pd.read_excel(\"ergebnisse_im_ueberblick_nettomiete_und_betriebskosten_mikrozensus.xlsx\", header=None, usecols = 'A:K', skiprows = 21, names=names, nrows=16)"
   ]
  },
  {
   "cell_type": "code",
   "execution_count": 26,
   "metadata": {},
   "outputs": [
    {
     "data": {
      "text/html": [
       "<div>\n",
       "<style scoped>\n",
       "    .dataframe tbody tr th:only-of-type {\n",
       "        vertical-align: middle;\n",
       "    }\n",
       "\n",
       "    .dataframe tbody tr th {\n",
       "        vertical-align: top;\n",
       "    }\n",
       "\n",
       "    .dataframe thead th {\n",
       "        text-align: right;\n",
       "    }\n",
       "</style>\n",
       "<table border=\"1\" class=\"dataframe\">\n",
       "  <thead>\n",
       "    <tr style=\"text-align: right;\">\n",
       "      <th></th>\n",
       "      <th>Jahr</th>\n",
       "      <th>Österreich</th>\n",
       "      <th>Burgenland</th>\n",
       "      <th>Kärnten</th>\n",
       "      <th>Niederösterreich</th>\n",
       "      <th>Oberösterreich</th>\n",
       "      <th>Salzburg</th>\n",
       "      <th>Steiermark</th>\n",
       "      <th>Tirol</th>\n",
       "      <th>Vorarlberg</th>\n",
       "      <th>Wien</th>\n",
       "    </tr>\n",
       "  </thead>\n",
       "  <tbody>\n",
       "    <tr>\n",
       "      <th>0</th>\n",
       "      <td>2005</td>\n",
       "      <td>3.773356</td>\n",
       "      <td>3.076578</td>\n",
       "      <td>3.322866</td>\n",
       "      <td>3.478303</td>\n",
       "      <td>3.757929</td>\n",
       "      <td>4.764558</td>\n",
       "      <td>3.764866</td>\n",
       "      <td>4.691925</td>\n",
       "      <td>4.875208</td>\n",
       "      <td>3.604803</td>\n",
       "    </tr>\n",
       "    <tr>\n",
       "      <th>1</th>\n",
       "      <td>2006</td>\n",
       "      <td>3.782493</td>\n",
       "      <td>2.878499</td>\n",
       "      <td>3.377042</td>\n",
       "      <td>3.427420</td>\n",
       "      <td>3.726926</td>\n",
       "      <td>4.767766</td>\n",
       "      <td>3.772013</td>\n",
       "      <td>4.808380</td>\n",
       "      <td>5.071154</td>\n",
       "      <td>3.618838</td>\n",
       "    </tr>\n",
       "    <tr>\n",
       "      <th>2</th>\n",
       "      <td>2007</td>\n",
       "      <td>3.869415</td>\n",
       "      <td>2.829243</td>\n",
       "      <td>3.427404</td>\n",
       "      <td>3.456205</td>\n",
       "      <td>3.707562</td>\n",
       "      <td>5.072755</td>\n",
       "      <td>3.909598</td>\n",
       "      <td>4.664652</td>\n",
       "      <td>5.213117</td>\n",
       "      <td>3.760722</td>\n",
       "    </tr>\n",
       "    <tr>\n",
       "      <th>3</th>\n",
       "      <td>2008</td>\n",
       "      <td>3.981163</td>\n",
       "      <td>3.067672</td>\n",
       "      <td>3.546033</td>\n",
       "      <td>3.573536</td>\n",
       "      <td>3.959414</td>\n",
       "      <td>5.146493</td>\n",
       "      <td>4.059543</td>\n",
       "      <td>4.683584</td>\n",
       "      <td>5.320438</td>\n",
       "      <td>3.833979</td>\n",
       "    </tr>\n",
       "    <tr>\n",
       "      <th>4</th>\n",
       "      <td>2009</td>\n",
       "      <td>4.167542</td>\n",
       "      <td>3.280284</td>\n",
       "      <td>3.531763</td>\n",
       "      <td>3.713987</td>\n",
       "      <td>4.186636</td>\n",
       "      <td>5.247207</td>\n",
       "      <td>4.248261</td>\n",
       "      <td>4.889609</td>\n",
       "      <td>5.381810</td>\n",
       "      <td>4.058481</td>\n",
       "    </tr>\n",
       "  </tbody>\n",
       "</table>\n",
       "</div>"
      ],
      "text/plain": [
       "   Jahr  Österreich  Burgenland   Kärnten  Niederösterreich  Oberösterreich  \\\n",
       "0  2005    3.773356    3.076578  3.322866          3.478303        3.757929   \n",
       "1  2006    3.782493    2.878499  3.377042          3.427420        3.726926   \n",
       "2  2007    3.869415    2.829243  3.427404          3.456205        3.707562   \n",
       "3  2008    3.981163    3.067672  3.546033          3.573536        3.959414   \n",
       "4  2009    4.167542    3.280284  3.531763          3.713987        4.186636   \n",
       "\n",
       "   Salzburg  Steiermark     Tirol  Vorarlberg      Wien  \n",
       "0  4.764558    3.764866  4.691925    4.875208  3.604803  \n",
       "1  4.767766    3.772013  4.808380    5.071154  3.618838  \n",
       "2  5.072755    3.909598  4.664652    5.213117  3.760722  \n",
       "3  5.146493    4.059543  4.683584    5.320438  3.833979  \n",
       "4  5.247207    4.248261  4.889609    5.381810  4.058481  "
      ]
     },
     "execution_count": 26,
     "metadata": {},
     "output_type": "execute_result"
    }
   ],
   "source": [
    "averagePricePerMeter.head()"
   ]
  },
  {
   "cell_type": "code",
   "execution_count": 33,
   "metadata": {},
   "outputs": [
    {
     "data": {
      "text/plain": [
       "3.0765779400238693"
      ]
     },
     "execution_count": 33,
     "metadata": {},
     "output_type": "execute_result"
    }
   ],
   "source": [
    "averagePricePerMeter[(averagePricePerMeter.Jahr == 2005)]['Burgenland'][0]"
   ]
  },
  {
   "cell_type": "code",
   "execution_count": 54,
   "metadata": {},
   "outputs": [],
   "source": [
    "def getState(select):\n",
    "    return {\n",
    "        'Burgenland': 1,\n",
    "        'Kärnten': 2,\n",
    "        'Niederösterreich': 3,\n",
    "        'Oberösterreich': 4,\n",
    "        'Salzburg': 5,\n",
    "        'Steiermark': 6,\n",
    "        'Tirol': 7,\n",
    "        'Vorarlberg': 8,\n",
    "        'Wien': 9,\n",
    "        'Österreich': 10\n",
    "    }.get(select, 0)"
   ]
  },
  {
   "cell_type": "code",
   "execution_count": 126,
   "metadata": {},
   "outputs": [],
   "source": [
    "result = []\n",
    "for i in range(10, 500):\n",
    "    for j in value_vars:\n",
    "        for k in averagePricePerMeter.Jahr.unique():\n",
    "            result.append((getState(j), i, averagePricePerMeter[(averagePricePerMeter.Jahr == k)][j].values[0] * i))\n",
    "            \n",
    "df = pd.DataFrame(result, columns =['State', 'Size', 'Price'])"
   ]
  },
  {
   "cell_type": "code",
   "execution_count": 127,
   "metadata": {},
   "outputs": [
    {
     "data": {
      "text/html": [
       "<div>\n",
       "<style scoped>\n",
       "    .dataframe tbody tr th:only-of-type {\n",
       "        vertical-align: middle;\n",
       "    }\n",
       "\n",
       "    .dataframe tbody tr th {\n",
       "        vertical-align: top;\n",
       "    }\n",
       "\n",
       "    .dataframe thead th {\n",
       "        text-align: right;\n",
       "    }\n",
       "</style>\n",
       "<table border=\"1\" class=\"dataframe\">\n",
       "  <thead>\n",
       "    <tr style=\"text-align: right;\">\n",
       "      <th></th>\n",
       "      <th>State</th>\n",
       "      <th>Size</th>\n",
       "      <th>Price</th>\n",
       "    </tr>\n",
       "  </thead>\n",
       "  <tbody>\n",
       "  </tbody>\n",
       "</table>\n",
       "</div>"
      ],
      "text/plain": [
       "Empty DataFrame\n",
       "Columns: [State, Size, Price]\n",
       "Index: []"
      ]
     },
     "execution_count": 127,
     "metadata": {},
     "output_type": "execute_result"
    }
   ],
   "source": [
    "df[(df.State==10) & (df.Size==500)]"
   ]
  },
  {
   "cell_type": "code",
   "execution_count": 118,
   "metadata": {},
   "outputs": [],
   "source": [
    "model = LinearRegression()\n",
    "forest = RandomForestRegressor()"
   ]
  },
  {
   "cell_type": "code",
   "execution_count": 119,
   "metadata": {},
   "outputs": [],
   "source": [
    "array = df.values\n",
    "X = array[:, 0:len(df.columns) -1]\n",
    "Y = array[:, len(df.columns) -1]\n",
    "validation_size = 0.01\n",
    "seed = 8\n",
    "X_train, X_validation, Y_train, Y_validation = model_selection.train_test_split(X, Y, test_size=validation_size, random_state=seed)"
   ]
  },
  {
   "cell_type": "code",
   "execution_count": 120,
   "metadata": {},
   "outputs": [
    {
     "data": {
      "text/plain": [
       "RandomForestRegressor()"
      ]
     },
     "execution_count": 120,
     "metadata": {},
     "output_type": "execute_result"
    }
   ],
   "source": [
    "model.fit(X_train, Y_train)\n",
    "forest.fit(X_train, Y_train)"
   ]
  },
  {
   "cell_type": "code",
   "execution_count": 121,
   "metadata": {},
   "outputs": [
    {
     "data": {
      "text/plain": [
       "0.8438765145195929"
      ]
     },
     "execution_count": 121,
     "metadata": {},
     "output_type": "execute_result"
    }
   ],
   "source": [
    "model.score(X_validation, Y_validation)"
   ]
  },
  {
   "cell_type": "code",
   "execution_count": 122,
   "metadata": {},
   "outputs": [
    {
     "data": {
      "text/plain": [
       "array([280.78971366])"
      ]
     },
     "execution_count": 122,
     "metadata": {},
     "output_type": "execute_result"
    }
   ],
   "source": [
    "model.predict(np.array([[10,20]]))"
   ]
  },
  {
   "cell_type": "code",
   "execution_count": 124,
   "metadata": {},
   "outputs": [
    {
     "data": {
      "text/plain": [
       "array([2398.61326073])"
      ]
     },
     "execution_count": 124,
     "metadata": {},
     "output_type": "execute_result"
    }
   ],
   "source": [
    "forest.predict(np.array([[10,500]]))"
   ]
  },
  {
   "cell_type": "code",
   "execution_count": 129,
   "metadata": {},
   "outputs": [],
   "source": [
    "# save the classifier\n",
    "with open('forest.pkl', 'wb') as fid:\n",
    "    pickle.dump(forest, fid)    \n",
    "\n",
    "# load it again\n",
    "with open('forest.pkl', 'rb') as fid:\n",
    "    forest = pickle.load(fid)"
   ]
  },
  {
   "cell_type": "code",
   "execution_count": 133,
   "metadata": {},
   "outputs": [
    {
     "data": {
      "text/plain": [
       "47.97805246194903"
      ]
     },
     "execution_count": 133,
     "metadata": {},
     "output_type": "execute_result"
    }
   ],
   "source": [
    "forest.predict(np.array([[10,10]]))[0]"
   ]
  },
  {
   "cell_type": "code",
   "execution_count": null,
   "metadata": {},
   "outputs": [],
   "source": []
  }
 ],
 "metadata": {
  "kernelspec": {
   "display_name": "Python 3",
   "language": "python",
   "name": "python3"
  },
  "language_info": {
   "codemirror_mode": {
    "name": "ipython",
    "version": 3
   },
   "file_extension": ".py",
   "mimetype": "text/x-python",
   "name": "python",
   "nbconvert_exporter": "python",
   "pygments_lexer": "ipython3",
   "version": "3.8.5"
  }
 },
 "nbformat": 4,
 "nbformat_minor": 4
}
